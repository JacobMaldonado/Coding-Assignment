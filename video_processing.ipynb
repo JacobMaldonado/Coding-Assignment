{
 "cells": [
  {
   "attachments": {},
   "cell_type": "markdown",
   "metadata": {},
   "source": [
    "# Coding Assignment\n",
    "First install all the dependencies"
   ]
  },
  {
   "cell_type": "code",
   "execution_count": 34,
   "metadata": {},
   "outputs": [
    {
     "name": "stdout",
     "output_type": "stream",
     "text": [
      "Requirement already satisfied: requests in c:\\users\\jacob\\onedrive\\documentos\\proyectos\\interview\\env\\lib\\site-packages (2.31.0)\n",
      "Requirement already satisfied: charset-normalizer<4,>=2 in c:\\users\\jacob\\onedrive\\documentos\\proyectos\\interview\\env\\lib\\site-packages (from requests) (3.2.0)\n",
      "Requirement already satisfied: idna<4,>=2.5 in c:\\users\\jacob\\onedrive\\documentos\\proyectos\\interview\\env\\lib\\site-packages (from requests) (3.4)\n",
      "Requirement already satisfied: urllib3<3,>=1.21.1 in c:\\users\\jacob\\onedrive\\documentos\\proyectos\\interview\\env\\lib\\site-packages (from requests) (2.0.3)\n",
      "Requirement already satisfied: certifi>=2017.4.17 in c:\\users\\jacob\\onedrive\\documentos\\proyectos\\interview\\env\\lib\\site-packages (from requests) (2023.5.7)\n",
      "Requirement already satisfied: moviepy in c:\\users\\jacob\\onedrive\\documentos\\proyectos\\interview\\env\\lib\\site-packages (1.0.3)\n",
      "Requirement already satisfied: decorator<5.0,>=4.0.2 in c:\\users\\jacob\\onedrive\\documentos\\proyectos\\interview\\env\\lib\\site-packages (from moviepy) (4.4.2)\n",
      "Requirement already satisfied: tqdm<5.0,>=4.11.2 in c:\\users\\jacob\\onedrive\\documentos\\proyectos\\interview\\env\\lib\\site-packages (from moviepy) (4.65.0)\n",
      "Requirement already satisfied: requests<3.0,>=2.8.1 in c:\\users\\jacob\\onedrive\\documentos\\proyectos\\interview\\env\\lib\\site-packages (from moviepy) (2.31.0)\n",
      "Requirement already satisfied: proglog<=1.0.0 in c:\\users\\jacob\\onedrive\\documentos\\proyectos\\interview\\env\\lib\\site-packages (from moviepy) (0.1.10)\n",
      "Requirement already satisfied: numpy>=1.17.3 in c:\\users\\jacob\\onedrive\\documentos\\proyectos\\interview\\env\\lib\\site-packages (from moviepy) (1.25.1)\n",
      "Requirement already satisfied: imageio<3.0,>=2.5 in c:\\users\\jacob\\onedrive\\documentos\\proyectos\\interview\\env\\lib\\site-packages (from moviepy) (2.31.1)\n",
      "Requirement already satisfied: imageio-ffmpeg>=0.2.0 in c:\\users\\jacob\\onedrive\\documentos\\proyectos\\interview\\env\\lib\\site-packages (from moviepy) (0.4.8)\n",
      "Requirement already satisfied: pillow>=8.3.2 in c:\\users\\jacob\\onedrive\\documentos\\proyectos\\interview\\env\\lib\\site-packages (from imageio<3.0,>=2.5->moviepy) (10.0.0)\n",
      "Requirement already satisfied: charset-normalizer<4,>=2 in c:\\users\\jacob\\onedrive\\documentos\\proyectos\\interview\\env\\lib\\site-packages (from requests<3.0,>=2.8.1->moviepy) (3.2.0)\n",
      "Requirement already satisfied: idna<4,>=2.5 in c:\\users\\jacob\\onedrive\\documentos\\proyectos\\interview\\env\\lib\\site-packages (from requests<3.0,>=2.8.1->moviepy) (3.4)\n",
      "Requirement already satisfied: urllib3<3,>=1.21.1 in c:\\users\\jacob\\onedrive\\documentos\\proyectos\\interview\\env\\lib\\site-packages (from requests<3.0,>=2.8.1->moviepy) (2.0.3)\n",
      "Requirement already satisfied: certifi>=2017.4.17 in c:\\users\\jacob\\onedrive\\documentos\\proyectos\\interview\\env\\lib\\site-packages (from requests<3.0,>=2.8.1->moviepy) (2023.5.7)\n",
      "Requirement already satisfied: colorama in c:\\users\\jacob\\onedrive\\documentos\\proyectos\\interview\\env\\lib\\site-packages (from tqdm<5.0,>=4.11.2->moviepy) (0.4.6)\n",
      "Requirement already satisfied: sqlalchemy in c:\\users\\jacob\\onedrive\\documentos\\proyectos\\interview\\env\\lib\\site-packages (2.0.18)\n",
      "Requirement already satisfied: typing-extensions>=4.2.0 in c:\\users\\jacob\\onedrive\\documentos\\proyectos\\interview\\env\\lib\\site-packages (from sqlalchemy) (4.7.1)\n",
      "Requirement already satisfied: greenlet!=0.4.17 in c:\\users\\jacob\\onedrive\\documentos\\proyectos\\interview\\env\\lib\\site-packages (from sqlalchemy) (2.0.2)\n",
      "Requirement already satisfied: pandas in c:\\users\\jacob\\onedrive\\documentos\\proyectos\\interview\\env\\lib\\site-packages (2.0.3)\n",
      "Requirement already satisfied: python-dateutil>=2.8.2 in c:\\users\\jacob\\onedrive\\documentos\\proyectos\\interview\\env\\lib\\site-packages (from pandas) (2.8.2)\n",
      "Requirement already satisfied: pytz>=2020.1 in c:\\users\\jacob\\onedrive\\documentos\\proyectos\\interview\\env\\lib\\site-packages (from pandas) (2023.3)\n",
      "Requirement already satisfied: tzdata>=2022.1 in c:\\users\\jacob\\onedrive\\documentos\\proyectos\\interview\\env\\lib\\site-packages (from pandas) (2023.3)\n",
      "Requirement already satisfied: numpy>=1.20.3 in c:\\users\\jacob\\onedrive\\documentos\\proyectos\\interview\\env\\lib\\site-packages (from pandas) (1.25.1)\n",
      "Requirement already satisfied: six>=1.5 in c:\\users\\jacob\\onedrive\\documentos\\proyectos\\interview\\env\\lib\\site-packages (from python-dateutil>=2.8.2->pandas) (1.16.0)\n",
      "Collecting python-dotenv\n",
      "  Downloading python_dotenv-1.0.0-py3-none-any.whl (19 kB)\n",
      "Installing collected packages: python-dotenv\n",
      "Successfully installed python-dotenv-1.0.0\n"
     ]
    }
   ],
   "source": [
    "!pip install requests\n",
    "!pip install moviepy\n",
    "!pip install sqlalchemy\n",
    "!pip install pandas\n",
    "!pip install python-dotenv"
   ]
  },
  {
   "attachments": {},
   "cell_type": "markdown",
   "metadata": {},
   "source": [
    "## Download a video\n",
    "Download video file (airshow.mp4) from\n",
    "`https://www.dropbox.com/sh/782f7a0hmw3mn59/AADcJpRoFB0IIfi7-nR-7Eifa?dl=0`\n",
    "\n",
    "1. To Download a file from dropbox we need parameter dl to be 1, so we can get a zip from that public folder\n",
    "2. Unzip the file to get videos\n",
    "3. Save them in root folder"
   ]
  },
  {
   "cell_type": "code",
   "execution_count": 11,
   "metadata": {},
   "outputs": [
    {
     "name": "stdout",
     "output_type": "stream",
     "text": [
      "200\n"
     ]
    }
   ],
   "source": [
    "import requests\n",
    "\n",
    "url = 'https://www.dropbox.com/sh/782f7a0hmw3mn59/AADcJpRoFB0IIfi7-nR-7Eifa?dl=1'\n",
    "zip_file = 'output.zip'\n",
    "r = requests.get(url, stream=True)\n",
    "print(r.status_code)\n",
    "with open(zip_file, \"wb\") as f:\n",
    "    for chunk in r.iter_content(chunk_size=1024):\n",
    "        if chunk:\n",
    "            f.write(chunk)"
   ]
  },
  {
   "cell_type": "code",
   "execution_count": 12,
   "metadata": {},
   "outputs": [],
   "source": [
    "import zipfile\n",
    "with zipfile.ZipFile(zip_file, 'r') as zip_ref:\n",
    "    zip_ref.extractall(\"./\")"
   ]
  },
  {
   "attachments": {},
   "cell_type": "markdown",
   "metadata": {},
   "source": [
    "## Cut the video\n",
    "Cut it up into 1-minute clips, save as .mov or .mp4 inside a folder named “video_clips”."
   ]
  },
  {
   "cell_type": "code",
   "execution_count": 14,
   "metadata": {},
   "outputs": [],
   "source": [
    "import os\n",
    "\n",
    "if not os.path.exists('./report'):\n",
    "    os.mkdir('./video_clips')"
   ]
  },
  {
   "attachments": {},
   "cell_type": "markdown",
   "metadata": {},
   "source": [
    "List all mp4 files"
   ]
  },
  {
   "cell_type": "code",
   "execution_count": 16,
   "metadata": {},
   "outputs": [],
   "source": [
    "mp4_files = []\n",
    "for file in os.listdir(\"./\"):\n",
    "    if file.endswith(\".mp4\"):\n",
    "        mp4_files.append(file)"
   ]
  },
  {
   "attachments": {},
   "cell_type": "markdown",
   "metadata": {},
   "source": [
    "Use movie py and ffmpeg to cut videos and save them in output folder.  \n",
    "Videos are named in the format `{starting_frame}thFrame` and save with extension mp4"
   ]
  },
  {
   "cell_type": "code",
   "execution_count": 22,
   "metadata": {},
   "outputs": [
    {
     "name": "stdout",
     "output_type": "stream",
     "text": [
      "9287\n",
      "Moviepy - Running:\n",
      ">>> \"+ \" \".join(cmd)\n",
      "Moviepy - Command successful\n",
      "Moviepy - Running:\n",
      ">>> \"+ \" \".join(cmd)\n",
      "Moviepy - Command successful\n",
      "Moviepy - Running:\n",
      ">>> \"+ \" \".join(cmd)\n",
      "Moviepy - Command successful\n",
      "Moviepy - Running:\n",
      ">>> \"+ \" \".join(cmd)\n",
      "Moviepy - Command successful\n",
      "Moviepy - Running:\n",
      ">>> \"+ \" \".join(cmd)\n",
      "Moviepy - Command successful\n",
      "Moviepy - Running:\n",
      ">>> \"+ \" \".join(cmd)\n",
      "Moviepy - Command successful\n"
     ]
    }
   ],
   "source": [
    "from moviepy.video.io.ffmpeg_tools import ffmpeg_extract_subclip\n",
    "from moviepy.editor import VideoFileClip\n",
    "\n",
    "for file in mp4_files:\n",
    "    load_video = VideoFileClip(file)\n",
    "    fps = load_video.fps\n",
    "    video_duration = load_video.duration\n",
    "    total_frames = int(fps * video_duration)\n",
    "    number_of_clips = int(video_duration // 60) + 1\n",
    "    for i in range(number_of_clips):\n",
    "        start_time = i * 60\n",
    "        end_time = (i + 1) * 60\n",
    "        output_path = f\"./video_clips/{int(fps * start_time)}thFrame.mp4\"\n",
    "        ffmpeg_extract_subclip(file, start_time, end_time, targetname=output_path)\n"
   ]
  },
  {
   "attachments": {},
   "cell_type": "markdown",
   "metadata": {},
   "source": [
    "# Create a videos Table"
   ]
  },
  {
   "cell_type": "code",
   "execution_count": 30,
   "metadata": {},
   "outputs": [
    {
     "data": {
      "text/plain": [
       "6"
      ]
     },
     "execution_count": 30,
     "metadata": {},
     "output_type": "execute_result"
    }
   ],
   "source": [
    "from sqlalchemy import create_engine\n",
    "import pandas as pd\n",
    "from dotenv import load_dotenv\n",
    "load_dotenv()\n",
    "\n",
    "database=os.getenv(\"DATABASE\")\n",
    "user=os.getenv(\"USER\")\n",
    "password=os.getenv(\"PASSWORD\")\n",
    "host=os.getenv(\"HOST\") \n",
    "port=os.getenv(\"PORT\")\n",
    "engine = create_engine(f'postgresql://{user}:{password}@{host}:{port}/{database}')\n",
    "df = pd.DataFrame(columns=['clip_name', 'clip_file_extension', 'clip_duration', 'clip_location', 'insert_timestamp'])\n",
    "for file in os.listdir(\"./video_clips\"):\n",
    "    if file.endswith(\".mp4\"):\n",
    "        video = VideoFileClip(f\"./video_clips/{file}\")\n",
    "        row_data = {'clip_name': file,\n",
    "                        'clip_file_extension': file.split(\".\")[-1],\n",
    "                        'clip_duration': video.duration,\n",
    "                        'clip_location': f\"./video_clips/{file}\",\n",
    "                        'insert_timestamp': pd.Timestamp.now()}\n",
    "        row_df = pd.DataFrame([row_data])\n",
    "        df = pd.concat([df, row_df])\n",
    "df.to_sql(con=engine, name=\"video_data\", if_exists='replace', index=False)\n"
   ]
  },
  {
   "attachments": {},
   "cell_type": "markdown",
   "metadata": {},
   "source": [
    "# Save as CSV"
   ]
  },
  {
   "cell_type": "code",
   "execution_count": 33,
   "metadata": {},
   "outputs": [],
   "source": [
    "if not os.path.exists('./report'):\n",
    "    os.mkdir('./report')\n",
    "df.to_csv('./report/generated_video_files.csv', index=False)"
   ]
  }
 ],
 "metadata": {
  "kernelspec": {
   "display_name": "env",
   "language": "python",
   "name": "python3"
  },
  "language_info": {
   "codemirror_mode": {
    "name": "ipython",
    "version": 3
   },
   "file_extension": ".py",
   "mimetype": "text/x-python",
   "name": "python",
   "nbconvert_exporter": "python",
   "pygments_lexer": "ipython3",
   "version": "3.9.13"
  },
  "orig_nbformat": 4
 },
 "nbformat": 4,
 "nbformat_minor": 2
}
